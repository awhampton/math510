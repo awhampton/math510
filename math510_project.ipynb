{
 "cells": [
  {
   "cell_type": "markdown",
   "metadata": {},
   "source": [
    "### math 510 project"
   ]
  },
  {
   "cell_type": "code",
   "execution_count": 172,
   "metadata": {},
   "outputs": [],
   "source": [
    "import numpy as np\n",
    "import matplotlib.pyplot as plt"
   ]
  },
  {
   "cell_type": "code",
   "execution_count": 173,
   "metadata": {},
   "outputs": [],
   "source": [
    "# constants\n",
    "\n",
    "N = 200        # number of neurons (200)\n",
    "M = 5          # number of external inputs to the network (?)\n",
    "T = 100        # total time of the simulation (?)\n",
    "delta_t = 0.1  # length of the time step (?)\n",
    "tau = 1        # relaxation time constant (0.03)\n",
    "g = 1.5        # scaling factor (1.5)"
   ]
  },
  {
   "cell_type": "code",
   "execution_count": 174,
   "metadata": {},
   "outputs": [],
   "source": [
    "# initialize the activations x to uniform noise in the range [-0.1, 0.1]\n",
    "\n",
    "x = 0.1 * (2 * np.random.rand(N,1) - 1)"
   ]
  },
  {
   "cell_type": "code",
   "execution_count": 175,
   "metadata": {},
   "outputs": [],
   "source": [
    "# initialize the external inputs\n",
    "\n",
    "u = np.zeros((M,1))"
   ]
  },
  {
   "cell_type": "code",
   "execution_count": 176,
   "metadata": {},
   "outputs": [],
   "source": [
    "# initialize the weights J, taken from normal distribution with\n",
    "# mean 0 and standard deviation g / sqrt(N)\n",
    "\n",
    "J = np.random.normal(loc=0.0, scale=(g/np.sqrt(N)), size=(N,N))"
   ]
  },
  {
   "cell_type": "code",
   "execution_count": 177,
   "metadata": {},
   "outputs": [],
   "source": [
    "# initialize the (external) weights B, taken from uniform distribution\n",
    "# over [-1, 1]\n",
    "\n",
    "B = 2 * np.random.rand(N,M) - 1"
   ]
  },
  {
   "cell_type": "code",
   "execution_count": 178,
   "metadata": {},
   "outputs": [],
   "source": [
    "# calculate dx/dt (equation 3, p. 18)\n",
    "\n",
    "def calculate_derivative(x, u, J, B, tau):\n",
    "    r = np.tanh(x)\n",
    "    return (1.0 / tau) * (-x + np.dot(J,r) + np.dot(B,u))"
   ]
  },
  {
   "cell_type": "code",
   "execution_count": 179,
   "metadata": {},
   "outputs": [],
   "source": [
    "# calculate euler approximation of the time step\n",
    "\n",
    "def euler_timestep(x, u, J, B, tau, delta_t):\n",
    "    return x + calculate_derivative(x, u, J, B, tau) * delta_t"
   ]
  },
  {
   "cell_type": "code",
   "execution_count": 180,
   "metadata": {},
   "outputs": [],
   "source": [
    "# run the simulation of the updates to the excitation\n",
    "\n",
    "x_s = []  # keep track of x[0] over time for the plot\n",
    "t_s = []  # trial numbers for the plot\n",
    "\n",
    "for trial in range(int(round(T/delta_t))):\n",
    "    x = euler_timestep(x, u, J, B, tau, delta_t)\n",
    "    x_s.append(x[0])\n",
    "    t_s.append(trial)\n",
    "    #print \"trial:\", trial\n",
    "    #print x"
   ]
  },
  {
   "cell_type": "code",
   "execution_count": 181,
   "metadata": {},
   "outputs": [
    {
     "data": {
      "image/png": "[encoded data removed]",
      "text/plain": [
       "<matplotlib.figure.Figure at 0x7fa3e3e91cd0>"
      ]
     },
     "metadata": {},
     "output_type": "display_data"
    }
   ],
   "source": [
    "# plot x_s against t_s\n",
    "plt.plot(t_s, x_s)\n",
    "plt.title('x[0] over time')\n",
    "plt.xlabel('trial')\n",
    "plt.ylabel('excitation level')\n",
    "plt.show()"
   ]
  },
  {
   "cell_type": "code",
   "execution_count": null,
   "metadata": {},
   "outputs": [],
   "source": []
  }
 ],
 "metadata": {
  "kernelspec": {
   "display_name": "Python 2",
   "language": "python",
   "name": "python2"
  },
  "language_info": {
   "codemirror_mode": {
    "name": "ipython",
    "version": 2
   },
   "file_extension": ".py",
   "mimetype": "text/x-python",
   "name": "python",
   "nbconvert_exporter": "python",
   "pygments_lexer": "ipython2",
   "version": "2.7.12"
  }
 },
 "nbformat": 4,
 "nbformat_minor": 2
}
