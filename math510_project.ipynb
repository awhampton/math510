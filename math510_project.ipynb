{
 "cells": [
  {
   "cell_type": "markdown",
   "metadata": {},
   "source": [
    "### math 510 project"
   ]
  },
  {
   "cell_type": "code",
   "execution_count": 189,
   "metadata": {},
   "outputs": [
    {
     "name": "stdout",
     "output_type": "stream",
     "text": [
      "The line_profiler extension is already loaded. To reload it, use:\n",
      "  %reload_ext line_profiler\n"
     ]
    }
   ],
   "source": [
    "import numpy as np\n",
    "import matplotlib.pyplot as plt\n",
    "import random\n",
    "import time\n",
    "%load_ext line_profiler"
   ]
  },
  {
   "cell_type": "code",
   "execution_count": 190,
   "metadata": {},
   "outputs": [],
   "source": [
    "def median_twenty(t):\n",
    "    n = len(t)\n",
    "    if n <= 20:\n",
    "        return t\n",
    "    res = t[:20]\n",
    "    for i in range(20, n):\n",
    "        s = sorted(t[i - 20 : i])\n",
    "        res.append(s[10])\n",
    "    return res"
   ]
  },
  {
   "cell_type": "code",
   "execution_count": 196,
   "metadata": {},
   "outputs": [],
   "source": [
    "# calculate dx/dt (equation 3, p. 18)\n",
    "def calculate_response(x):\n",
    "    return np.tanh(x)\n",
    "\n",
    "def calculate_derivative(x, u, J, B, tau):\n",
    "    r = calculate_response(x)\n",
    "    return (1.0 / tau) * (-x + np.dot(J,r) + np.dot(B,u))"
   ]
  },
  {
   "cell_type": "code",
   "execution_count": 197,
   "metadata": {},
   "outputs": [],
   "source": [
    "# calculate euler approximation of the time step\n",
    "# def euler_timestep(x, u, J, B, tau, delta_t):\n",
    "#     return x + calculate_derivative(x, u, J, B, tau) * delta_t\n",
    "\n",
    "# hacky version to squeeze out some performance!\n",
    "def euler_timestep(x, u, J, B, tau, delta_t):\n",
    "    return x * 0.96666666 + (np.dot(J,np.tanh(x)) + np.dot(B,u)) * 0.0333333"
   ]
  },
  {
   "cell_type": "code",
   "execution_count": 198,
   "metadata": {},
   "outputs": [],
   "source": [
    "def apply_perturbations(x, p, N):\n",
    "    positions = np.random.rand(N,1) < p\n",
    "    perturbations = np.random.rand(N,1) - 0.5\n",
    "    perturbations[0][0] = 0.0  # don't perturb the output neuron\n",
    "    return x + positions * perturbations"
   ]
  },
  {
   "cell_type": "code",
   "execution_count": 199,
   "metadata": {},
   "outputs": [],
   "source": [
    "# note: the choice of bias neurons is arbitrary\n",
    "def enforce_biases(x):\n",
    "    x[10][0] = 1.0\n",
    "    x[11][0] = 1.0\n",
    "    x[12][0] = 1.0\n",
    "    x[13][0] = -1.0"
   ]
  },
  {
   "cell_type": "code",
   "execution_count": 202,
   "metadata": {},
   "outputs": [],
   "source": [
    "def update_learning_potential(E, r_prev, x, x_average, N):\n",
    "    res = np.outer(x - x_average, r_prev)\n",
    "    return E + res * res * res"
   ]
  },
  {
   "cell_type": "code",
   "execution_count": 203,
   "metadata": {},
   "outputs": [],
   "source": [
    "def run_trial_task_1(J, B, tau, delta_t, N, M, expected_reward, eta, plot_output = False):\n",
    "    E = np.zeros((N,N))  # learning potential\n",
    "    x_alpha = 0.95       # decay of short-term running average of x\n",
    "    r_alpha = 0.75       # decay of expected reward\n",
    "    p = 0.003            # probability of perturbation\n",
    "    \n",
    "    # set up the external inputs\n",
    "    external = {'A': np.array([1.,0.]).reshape(2,1), 'B': np.array([0.,1.]).reshape(2,1)}\n",
    "    choice1 = random.choice(['A', 'B'])\n",
    "    choice2 = random.choice(['A', 'B'])\n",
    "    trial_type = choice1 == choice2\n",
    "    reward_trial_type = choice1 + choice2\n",
    "    target_response = -1.0 if trial_type else 1.0\n",
    "    if plot_output: print \"Stimulus 1:\", choice1\n",
    "    if plot_output: print \"Stimulus 2:\", choice2\n",
    "    u1 = external[choice1]\n",
    "    u2 = external[choice2]\n",
    "    u_s = [u1] * 200 + [np.zeros((M,1))] * 200 + [u2] * 200 + [np.zeros((M,1))] * 400\n",
    "    \n",
    "    # initialize the excitation\n",
    "    x = 0.1 * (2 * np.random.rand(N,1) - 1)\n",
    "    x_average = np.zeros((N,1))\n",
    "    r_s = []\n",
    "    \n",
    "    # run the trial timesteps\n",
    "    for timestep in range(1000):\n",
    "        u = u_s[timestep]\n",
    "        r_prev = np.tanh(x)\n",
    "        r_s.append(r_prev[0][0])\n",
    "        x_average = x_alpha * x + (1 - x_alpha) * x_average\n",
    "        x = apply_perturbations(x, p, N)\n",
    "        enforce_biases(x)\n",
    "        x = euler_timestep(x, u, J, B, tau, delta_t)\n",
    "        E = update_learning_potential(E, r_prev, x, x_average, N)\n",
    "        \n",
    "    \n",
    "    # compute the error\n",
    "    trial_error = sum(map(lambda x: np.abs(target_response - x), r_s[800:])) / 200.0\n",
    "    prev_expected_reward = expected_reward[reward_trial_type]\n",
    "    trial_reward = trial_error - prev_expected_reward\n",
    "    expected_reward[reward_trial_type] = r_alpha * prev_expected_reward + (1 - r_alpha) * trial_error\n",
    "    \n",
    "    # return (weight_change, expected_reward, trial_error, r_s) tuple\n",
    "    return (eta * trial_reward * prev_expected_reward * E, expected_reward, trial_error, r_s)"
   ]
  },
  {
   "cell_type": "code",
   "execution_count": 204,
   "metadata": {},
   "outputs": [],
   "source": [
    "def task1(num_trials):\n",
    "    \n",
    "    N = 200         # number of neurons (200)\n",
    "    M = 2           # number of external inputs to the network (2)\n",
    "    T = 1           # total time of the simulation (?)\n",
    "    delta_t = 0.001 # length of the time step (1 ms)\n",
    "    tau = 0.03      # relaxation time constant (30 ms)\n",
    "    g = 1.5         # scaling factor (1.5)\n",
    "    eta = 0.1       # learning rate (0.5 paper, 0.1 code)\n",
    "    \n",
    "    J = np.random.normal(loc=0.0, scale=(g/np.sqrt(N)), size=(N,N))\n",
    "    B = 2 * np.random.rand(N,M) - 1\n",
    "    \n",
    "    expected_reward = {'AA': 0.0, 'AB': 0.0, 'BA': 0.0, 'BB': 0.0}\n",
    "    \n",
    "    e_s = []\n",
    "    t_s = []\n",
    "    \n",
    "    # plot the output before training\n",
    "    print \"BEFORE TRAINING\"\n",
    "    print \"===============\"\n",
    "    _, _, _, r_s = run_trial_task_1(J, B, tau, delta_t, N, M, expected_reward, eta, plot_output = True)\n",
    "    plt.plot(list(range(1000)), r_s)\n",
    "    plt.title('r(x[0]) over time')\n",
    "    plt.xlabel('timestep (ms)')\n",
    "    plt.ylabel('response')\n",
    "    plt.show()\n",
    "\n",
    "    # print the weights\n",
    "    #print\n",
    "    #print J\n",
    "    #print\n",
    "    \n",
    "    for trial in range(num_trials):\n",
    "        weight_change, expected_reward, trial_error, _ = run_trial_task_1(J, B, tau, delta_t, N, M, expected_reward, eta)\n",
    "        J -= np.clip(weight_change, -0.0003, 0.0003)\n",
    "        e_s.append(trial_error)\n",
    "        t_s.append(trial)\n",
    "    \n",
    "    # plot the output before training\n",
    "    print \"AFTER TRAINING\"\n",
    "    print \"==============\"\n",
    "    _, _, _, r_s = run_trial_task_1(J, B, tau, delta_t, N, M, expected_reward, eta, plot_output = True)\n",
    "    plt.plot(list(range(1000)), r_s)\n",
    "    plt.title('r(x[0]) over time')\n",
    "    plt.xlabel('timestep (ms)')\n",
    "    plt.ylabel('response')\n",
    "    plt.show()\n",
    "    \n",
    "    # print the weights\n",
    "    #print\n",
    "    #print J\n",
    "    #print\n",
    "    \n",
    "    # plot error\n",
    "    plt.plot(t_s, median_twenty(e_s))\n",
    "    plt.title('median trial error over time')\n",
    "    plt.xlabel('trial')\n",
    "    plt.ylabel('error')\n",
    "    plt.show()\n",
    "    \n",
    "    return"
   ]
  },
  {
   "cell_type": "code",
   "execution_count": 205,
   "metadata": {},
   "outputs": [
    {
     "name": "stdout",
     "output_type": "stream",
     "text": [
      "BEFORE TRAINING\n",
      "===============\n",
      "Stimulus 1: A\n",
      "Stimulus 2: B\n"
     ]
    },
    {
     "data": {
      "image/png": "[encoded data removed]",
      "text/plain": [
       "<matplotlib.figure.Figure at 0x7ff6105ea510>"
      ]
     },
     "metadata": {},
     "output_type": "display_data"
    },
    {
     "name": "stdout",
     "output_type": "stream",
     "text": [
      "\n",
      "[[-0.0835611  -0.12487377  0.06603113 ..., -0.13759369  0.12127725\n",
      "   0.1156489 ]\n",
      " [-0.00309576  0.07089839  0.04152208 ...,  0.02463899 -0.14597042\n",
      "  -0.08297553]\n",
      " [ 0.01939353  0.04609036  0.00697216 ...,  0.05427288  0.08375836\n",
      "  -0.0511037 ]\n",
      " ..., \n",
      " [-0.06114734  0.10338872 -0.06175419 ...,  0.07602701 -0.15083193\n",
      "  -0.02931846]\n",
      " [ 0.15885469  0.04356747 -0.03686192 ..., -0.12315367  0.04484929\n",
      "  -0.05070755]\n",
      " [ 0.02687324 -0.01759887  0.04593044 ...,  0.00808701  0.01862002\n",
      "   0.05236696]]\n",
      "\n",
      "AFTER TRAINING\n",
      "==============\n",
      "Stimulus 1: A\n",
      "Stimulus 2: B\n"
     ]
    },
    {
     "data": {
      "image/png": "[encoded data removed]",
      "text/plain": [
       "<matplotlib.figure.Figure at 0x7ff610977ad0>"
      ]
     },
     "metadata": {},
     "output_type": "display_data"
    },
    {
     "name": "stdout",
     "output_type": "stream",
     "text": [
      "\n",
      "[[-0.08343045 -0.12491011  0.06589194 ..., -0.13777245  0.12165161\n",
      "   0.11582892]\n",
      " [ 0.00280754  0.07018164  0.04308139 ...,  0.02469703 -0.14743194\n",
      "  -0.08194902]\n",
      " [ 0.02223012  0.03910842  0.00947777 ...,  0.04328328  0.08520126\n",
      "  -0.0386388 ]\n",
      " ..., \n",
      " [-0.05461002  0.10585502 -0.05628894 ...,  0.07974142 -0.15984541\n",
      "  -0.02995135]\n",
      " [ 0.15916944  0.04214129 -0.04824452 ..., -0.13190684  0.05663115\n",
      "  -0.04545904]\n",
      " [ 0.02373353 -0.01901394  0.04518801 ...,  0.00932822  0.01127298\n",
      "   0.05158576]]\n",
      "\n"
     ]
    },
    {
     "data": {
      "image/png": "[encoded data removed]",
      "text/plain": [
       "<matplotlib.figure.Figure at 0x7ff610c31c90>"
      ]
     },
     "metadata": {},
     "output_type": "display_data"
    },
    {
     "name": "stdout",
     "output_type": "stream",
     "text": [
      "\n",
      "\n"
     ]
    }
   ],
   "source": [
    "#%lprun -f run_trial_task_1 task1(50)\n",
    "task1(5000)"
   ]
  },
  {
   "cell_type": "code",
   "execution_count": null,
   "metadata": {},
   "outputs": [],
   "source": []
  }
 ],
 "metadata": {
  "kernelspec": {
   "display_name": "Python 2",
   "language": "python",
   "name": "python2"
  },
  "language_info": {
   "codemirror_mode": {
    "name": "ipython",
    "version": 2
   },
   "file_extension": ".py",
   "mimetype": "text/x-python",
   "name": "python",
   "nbconvert_exporter": "python",
   "pygments_lexer": "ipython2",
   "version": "2.7.12"
  }
 },
 "nbformat": 4,
 "nbformat_minor": 2
}
