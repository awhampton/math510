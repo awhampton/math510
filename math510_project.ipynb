{
 "cells": [
  {
   "cell_type": "markdown",
   "metadata": {},
   "source": [
    "### math 510 project"
   ]
  },
  {
   "cell_type": "code",
   "execution_count": 68,
   "metadata": {},
   "outputs": [],
   "source": [
    "import numpy as np\n",
    "import matplotlib.pyplot as plt\n",
    "import random"
   ]
  },
  {
   "cell_type": "code",
   "execution_count": 69,
   "metadata": {},
   "outputs": [],
   "source": [
    "from heapq import heappush, heappop, heapify\n",
    "\n",
    "# maxheap built on top of the heapq library\n",
    "class MaxHeap:\n",
    "\n",
    "    def __init__(self):\n",
    "        self.h = []\n",
    "\n",
    "    def insert(self, x):\n",
    "        heappush(self.h, -1 * x)\n",
    "\n",
    "    def remove_min(self):\n",
    "        if self.h:\n",
    "            res = -1 * max(self.h)\n",
    "            self.h.remove(-1 * res)\n",
    "            heapify(self.h)\n",
    "            return res\n",
    "        return 'Empty!'\n",
    "\n",
    "    def remove_max(self):\n",
    "        if self.h:\n",
    "            return -1 * heappop(self.h)\n",
    "        return 'Empty!'\n",
    "\n",
    "    def size(self):\n",
    "        return len(self.h)\n",
    "\n",
    "    def find_min(self):\n",
    "        if self.h:\n",
    "            return -1 * max(self.h)\n",
    "        return 'Empty!'\n",
    "\n",
    "    def find_max(self):\n",
    "        if self.h:\n",
    "            return -1 * self.h[0]\n",
    "        return 'Empty!'\n",
    "\n",
    "# minheap built on top of the heapq library\n",
    "class MinHeap:\n",
    "\n",
    "    def __init__(self):\n",
    "        self.h = []\n",
    "\n",
    "    def insert(self, x):\n",
    "        heappush(self.h, x)\n",
    "\n",
    "    def remove_min(self):\n",
    "        if self.h:\n",
    "            return heappop(self.h)\n",
    "        return 'Empty!'\n",
    "\n",
    "    def remove_max(self):\n",
    "        if self.h:\n",
    "            res = max(self.h)\n",
    "            self.h.remove(res)\n",
    "            heapify(self.h)\n",
    "            return res\n",
    "        return 'Empty!'\n",
    "\n",
    "    def size(self):\n",
    "        return len(self.h)\n",
    "\n",
    "    def find_min(self):\n",
    "        if self.h:\n",
    "            return self.h[0]\n",
    "        return 'Empty!'\n",
    "\n",
    "    def find_max(self):\n",
    "        if self.h:\n",
    "            return max(self.h)\n",
    "        return 'Empty!'\n",
    "\n",
    "def average(a,b):\n",
    "    s = a + b\n",
    "    return s / 2.0\n",
    "\n",
    "def rebalance(l,r):\n",
    "    if l.size() > r.size() + 1:\n",
    "        r.insert(l.remove_max())\n",
    "    elif l.size() < r.size() - 1:\n",
    "        l.insert(r.remove_min())\n",
    "    return\n",
    "\n",
    "# the left and right data structures need to expose the following methods:\n",
    "#   insert, remove_min, remove_max, find_min, find_max, size\n",
    "def driver(left_data_structure, right_data_structure, t):\n",
    "    left = left_data_structure()\n",
    "    right = right_data_structure()\n",
    "    \n",
    "    n = len(t)\n",
    "    res = []\n",
    "\n",
    "    # handle the first two integers manually\n",
    "    first_int = t[0]\n",
    "    res.append(first_int)\n",
    "\n",
    "    second_int = t[1]\n",
    "    res.append(average(first_int, second_int))\n",
    "\n",
    "    left.insert(min(first_int, second_int))\n",
    "    right.insert(max(first_int, second_int))\n",
    "\n",
    "    for x in t[2:]:\n",
    "\n",
    "        if x > left.find_max():\n",
    "            right.insert(x)\n",
    "        else:\n",
    "            left.insert(x)\n",
    "\n",
    "        rebalance(left, right)\n",
    "\n",
    "        if left.size() == right.size():\n",
    "            res.append(average(left.find_max(), right.find_min()))\n",
    "        elif left.size() > right.size():\n",
    "            res.append(left.find_max())\n",
    "        else:\n",
    "            res.append(right.find_min())\n",
    "        \n",
    "    return res\n",
    "\n",
    "def running_median(t):\n",
    "    return driver(MaxHeap, MinHeap, t)"
   ]
  },
  {
   "cell_type": "code",
   "execution_count": 70,
   "metadata": {},
   "outputs": [],
   "source": [
    "# constants\n",
    "\n",
    "N = 200         # number of neurons (200)\n",
    "M = 5           # number of external inputs to the network (?)\n",
    "T = 1           # total time of the simulation (?)\n",
    "delta_t = 0.001 # length of the time step (?)\n",
    "tau = 0.03      # relaxation time constant (0.03)\n",
    "g = 1.5         # scaling factor (1.5)"
   ]
  },
  {
   "cell_type": "code",
   "execution_count": 71,
   "metadata": {},
   "outputs": [],
   "source": [
    "# initialize the activations x to uniform noise in the range [-0.1, 0.1]\n",
    "\n",
    "x = 0.1 * (2 * np.random.rand(N,1) - 1)"
   ]
  },
  {
   "cell_type": "code",
   "execution_count": 72,
   "metadata": {},
   "outputs": [],
   "source": [
    "# initialize the external inputs\n",
    "\n",
    "u = np.zeros((M,1))"
   ]
  },
  {
   "cell_type": "code",
   "execution_count": 73,
   "metadata": {},
   "outputs": [],
   "source": [
    "# initialize the weights J, taken from normal distribution with\n",
    "# mean 0 and standard deviation g / sqrt(N)\n",
    "\n",
    "J = np.random.normal(loc=0.0, scale=(g/np.sqrt(N)), size=(N,N))"
   ]
  },
  {
   "cell_type": "code",
   "execution_count": 74,
   "metadata": {},
   "outputs": [],
   "source": [
    "# initialize the (external) weights B, taken from uniform distribution\n",
    "# over [-1, 1]\n",
    "\n",
    "B = 2 * np.random.rand(N,M) - 1"
   ]
  },
  {
   "cell_type": "code",
   "execution_count": 75,
   "metadata": {},
   "outputs": [],
   "source": [
    "# calculate dx/dt (equation 3, p. 18)\n",
    "def calculate_response(x):\n",
    "    return np.tanh(x)\n",
    "\n",
    "def calculate_derivative(x, u, J, B, tau):\n",
    "    r = calculate_response(x)\n",
    "    return (1.0 / tau) * (-x + np.dot(J,r) + np.dot(B,u))"
   ]
  },
  {
   "cell_type": "code",
   "execution_count": 76,
   "metadata": {},
   "outputs": [],
   "source": [
    "# calculate euler approximation of the time step\n",
    "def euler_timestep(x, u, J, B, tau, delta_t):\n",
    "    return x + calculate_derivative(x, u, J, B, tau) * delta_t"
   ]
  },
  {
   "cell_type": "code",
   "execution_count": 77,
   "metadata": {},
   "outputs": [],
   "source": [
    "def apply_perturbations(x, p, N):\n",
    "    positions = np.random.rand(N,1) < p\n",
    "    perturbations = np.random.rand(N,1) - 0.5\n",
    "    return x + positions * perturbations"
   ]
  },
  {
   "cell_type": "code",
   "execution_count": 78,
   "metadata": {},
   "outputs": [],
   "source": [
    "def enforce_biases(x):\n",
    "    x[10][0] = 1.0\n",
    "    x[11][0] = 1.0\n",
    "    x[12][0] = -1.0\n",
    "    return x"
   ]
  },
  {
   "cell_type": "code",
   "execution_count": 79,
   "metadata": {},
   "outputs": [],
   "source": [
    "# run the simulation of the updates to the excitation\n",
    "\n",
    "r_s = []  # keep track of resposne(x[0]) over time for the plot\n",
    "t_s = []  # trial numbers for the plot\n",
    "\n",
    "for timestep in range(int(round(T/delta_t))):\n",
    "    x = euler_timestep(x, u, J, B, tau, delta_t)\n",
    "    r_s.append(calculate_response(x[0][0]))\n",
    "    t_s.append(timestep)"
   ]
  },
  {
   "cell_type": "code",
   "execution_count": 80,
   "metadata": {},
   "outputs": [
    {
     "data": {
      "image/png": "[encoded data removed]",
      "text/plain": [
       "<matplotlib.figure.Figure at 0x7fe30f3b2190>"
      ]
     },
     "metadata": {},
     "output_type": "display_data"
    }
   ],
   "source": [
    "# plot r_s against t_s\n",
    "plt.plot(t_s, r_s)\n",
    "plt.title('r(x[0]) over time')\n",
    "plt.xlabel('timestep (ms)')\n",
    "plt.ylabel('response')\n",
    "plt.show()"
   ]
  },
  {
   "cell_type": "code",
   "execution_count": 81,
   "metadata": {},
   "outputs": [],
   "source": [
    "def update_learning_potential(E, r_prev, x, x_average, N):\n",
    "    R = np.repeat(r_prev, N).reshape(N,N).transpose()\n",
    "    X_DIFF = np.repeat(x - x_average, N).reshape(N,N)\n",
    "    return E + np.power(R * X_DIFF, 3)      "
   ]
  },
  {
   "cell_type": "code",
   "execution_count": 82,
   "metadata": {},
   "outputs": [],
   "source": [
    "def run_trial_task_1(J, B, tau, delta_t, N, M, expected_reward, eta, plot_output = False):\n",
    "    E = np.zeros((N,N))  # learning potential\n",
    "    x_alpha = 0.95       # decay of short-term running average of x\n",
    "    r_alpha = 0.75       # decay of expected reward\n",
    "    p = 3.0 / 1000       # probability of perturbation\n",
    "    \n",
    "    external = {'A': np.array([1.,0.]).reshape(2,1), 'B': np.array([0.,1.]).reshape(2,1)}\n",
    "    \n",
    "    choice1 = random.choice(['A', 'B'])\n",
    "    choice2 = random.choice(['A', 'B'])\n",
    "    trial_type = choice1 == choice2\n",
    "    target_response = -1 if trial_type else 1\n",
    "    if plot_output: print \"Stimulus 1:\", choice1\n",
    "    if plot_output: print \"Stimulus 2:\", choice2\n",
    "    u1 = external[choice1]\n",
    "    u2 = external[choice2]\n",
    "    u_s = [u1] * 200 + [np.zeros((M,1))] * 200 + [u2] * 200 + [np.zeros((M,1))] * 400\n",
    "    \n",
    "    x = 0.1 * (2 * np.random.rand(N,1) - 1)\n",
    "    x_average = np.zeros((N,1))\n",
    "    r_prev = calculate_response(x)\n",
    "    r_s = []\n",
    "    \n",
    "    for timestep in range(1000):\n",
    "        u = u_s[timestep]\n",
    "        x = euler_timestep(x, u, J, B, tau, delta_t)\n",
    "        x = apply_perturbations(x, p, N)\n",
    "        x = enforce_biases(x)\n",
    "        E = update_learning_potential(E, r_prev, x, x_average, N)\n",
    "        x_average = x_alpha * x + (1 - x_alpha) * x_average\n",
    "        r_prev = calculate_response(x)\n",
    "        r_s.append(r_prev[0][0])\n",
    "    \n",
    "    trial_error = sum(map(lambda x: np.abs(target_response - x), r_s[800:])) / 200.0\n",
    "    trial_reward = trial_error - expected_reward[trial_type]\n",
    "    prev_expected_reward = expected_reward[trial_type]\n",
    "    expected_reward[trial_type] = r_alpha * expected_reward[trial_type] + (1 - r_alpha) * trial_error\n",
    "    \n",
    "    # return (weight_change, expected_reward, trial_error, r_s) tuple\n",
    "    return (eta * trial_reward * prev_expected_reward * E, expected_reward, trial_error, r_s)"
   ]
  },
  {
   "cell_type": "code",
   "execution_count": 85,
   "metadata": {},
   "outputs": [],
   "source": [
    "def task1(num_trials):\n",
    "    \n",
    "    N = 200         # number of neurons (200)\n",
    "    M = 2           # number of external inputs to the network (2)\n",
    "    T = 1           # total time of the simulation (?)\n",
    "    delta_t = 0.001 # length of the time step (1 ms)\n",
    "    tau = 0.03      # relaxation time constant (30 ms)\n",
    "    g = 1.5         # scaling factor (1.5)\n",
    "    eta = 0.1       # learning rate (0.5 paper, 0.1 code)\n",
    "    \n",
    "    J = np.random.normal(loc=0.0, scale=(g/np.sqrt(N)), size=(N,N))\n",
    "    B = 2 * np.random.rand(N,M) - 1\n",
    "    \n",
    "    expected_reward = {True: 0.0, False: 0.0}\n",
    "    \n",
    "    e_s = []\n",
    "    t_s = []\n",
    "    \n",
    "    # plot the output before training\n",
    "    print \"BEFORE TRAINING\"\n",
    "    print \"===============\"\n",
    "    _, _, _, r_s = run_trial_task_1(J, B, tau, delta_t, N, M, expected_reward, eta, plot_output = True)\n",
    "    plt.plot(list(range(1000)), r_s)\n",
    "    plt.title('r(x[0]) over time')\n",
    "    plt.xlabel('timestep (ms)')\n",
    "    plt.ylabel('response')\n",
    "    plt.show()\n",
    "\n",
    "    print\n",
    "    print J\n",
    "    print\n",
    "    \n",
    "    for trial in range(num_trials):\n",
    "        weight_change, expected_reward, trial_error, _ = run_trial_task_1(J, B, tau, delta_t, N, M, expected_reward, eta)\n",
    "        J -= weight_change\n",
    "        e_s.append(trial_error)\n",
    "        t_s.append(trial)\n",
    "    \n",
    "    # plot the output before training\n",
    "    print \"AFTER TRAINING\"\n",
    "    print \"==============\"\n",
    "    _, _, _, r_s = run_trial_task_1(J, B, tau, delta_t, N, M, expected_reward, eta, plot_output = True)\n",
    "    plt.plot(list(range(1000)), r_s)\n",
    "    plt.title('r(x[0]) over time')\n",
    "    plt.xlabel('timestep (ms)')\n",
    "    plt.ylabel('response')\n",
    "    plt.show()\n",
    "    \n",
    "    print\n",
    "    print J\n",
    "    print\n",
    "    \n",
    "    # plot error\n",
    "    plt.plot(t_s, running_median(e_s))\n",
    "    plt.title('median trial error over time')\n",
    "    plt.xlabel('trial')\n",
    "    plt.ylabel('error')\n",
    "    plt.show()\n",
    "    \n",
    "    return"
   ]
  },
  {
   "cell_type": "code",
   "execution_count": 87,
   "metadata": {},
   "outputs": [
    {
     "name": "stdout",
     "output_type": "stream",
     "text": [
      "BEFORE TRAINING\n",
      "===============\n",
      "Stimulus 1: B\n",
      "Stimulus 2: B\n"
     ]
    },
    {
     "data": {
      "image/png": "[encoded data removed]",
      "text/plain": [
       "<matplotlib.figure.Figure at 0x7fe30f12c590>"
      ]
     },
     "metadata": {},
     "output_type": "display_data"
    },
    {
     "name": "stdout",
     "output_type": "stream",
     "text": [
      "\n",
      "[[-0.04648877  0.02346254  0.20386161 ...,  0.07920585  0.06583948\n",
      "   0.11453615]\n",
      " [ 0.01824426  0.22254006 -0.05740897 ...,  0.09975643  0.0263778\n",
      "  -0.04836634]\n",
      " [-0.08668563  0.0985463   0.11957361 ...,  0.2437207  -0.00211675\n",
      "   0.05024508]\n",
      " ..., \n",
      " [ 0.1635508  -0.00735834  0.02359163 ...,  0.0187483   0.0805936\n",
      "  -0.04386269]\n",
      " [ 0.27257022  0.03918614 -0.02573501 ..., -0.11096438  0.00648658\n",
      "   0.15860545]\n",
      " [ 0.0113399   0.26111249  0.07247003 ..., -0.06254838  0.10352841\n",
      "   0.09511377]]\n",
      "\n",
      "AFTER TRAINING\n",
      "==============\n",
      "Stimulus 1: B\n",
      "Stimulus 2: B\n"
     ]
    },
    {
     "data": {
      "image/png": "[encoded data removed]",
      "text/plain": [
       "<matplotlib.figure.Figure at 0x7fe32c042750>"
      ]
     },
     "metadata": {},
     "output_type": "display_data"
    },
    {
     "name": "stdout",
     "output_type": "stream",
     "text": [
      "\n",
      "[[-0.05963217  0.03305928  0.19927118 ...,  0.09631825  0.06305091\n",
      "   0.10707631]\n",
      " [ 0.04728952  0.20376541 -0.04946252 ...,  0.06673442  0.02207076\n",
      "  -0.00783803]\n",
      " [-0.06813543  0.08711258  0.09792663 ...,  0.23936688  0.01315013\n",
      "   0.0556907 ]\n",
      " ..., \n",
      " [ 0.18345046  0.0095255  -0.00871299 ..., -0.00028187  0.06395074\n",
      "  -0.03070309]\n",
      " [ 0.2542005   0.05589431 -0.02444213 ..., -0.11544489 -0.03953676\n",
      "   0.12837132]\n",
      " [ 0.03132886  0.23162802  0.10125024 ..., -0.09670105  0.12309711\n",
      "   0.13930266]]\n",
      "\n"
     ]
    },
    {
     "data": {
      "image/png": "[encoded data removed]",
      "text/plain": [
       "<matplotlib.figure.Figure at 0x7fe30f302f90>"
      ]
     },
     "metadata": {},
     "output_type": "display_data"
    }
   ],
   "source": [
    "task1(500)"
   ]
  },
  {
   "cell_type": "code",
   "execution_count": null,
   "metadata": {},
   "outputs": [],
   "source": []
  }
 ],
 "metadata": {
  "kernelspec": {
   "display_name": "Python 2",
   "language": "python",
   "name": "python2"
  },
  "language_info": {
   "codemirror_mode": {
    "name": "ipython",
    "version": 2
   },
   "file_extension": ".py",
   "mimetype": "text/x-python",
   "name": "python",
   "nbconvert_exporter": "python",
   "pygments_lexer": "ipython2",
   "version": "2.7.12"
  }
 },
 "nbformat": 4,
 "nbformat_minor": 2
}
